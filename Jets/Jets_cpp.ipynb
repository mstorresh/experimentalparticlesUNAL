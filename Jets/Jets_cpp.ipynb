{
 "cells": [
  {
   "cell_type": "markdown",
   "metadata": {
    "colab_type": "text",
    "id": "3IHbPSCutxxw"
   },
   "source": [
    "# An introductional notebook to HEP analysis in C++\n",
    "\n",
    "<p>In this notebook you can find an easy set of commands that show some basic computing techniques commonly used in High Energy Physics (HEP) analyzes.</p>\n",
    "\n",
    "<p>It also shows how to create an histogram, fill it and draw it. Moreover it is an introduction to [ROOT](https://root.cern.ch/) too. The final output is a plot with the number of leptons.</p>\n",
    "\n",
    "Based on ATLAS opendata notebooks (http://opendata.atlas.cern/release/2020/documentation/notebooks/intro.html)\n"
   ]
  },
  {
   "cell_type": "markdown",
   "metadata": {
    "colab_type": "text",
    "id": "zm4PsFDCtxx0"
   },
   "source": [
    "The library used is [ROOT](https://root.cern.ch/), a scientific data analysis software framework that provides a large set of functionalities needed to deal with big data processing, statistical analysis, visualisation and storage."
   ]
  },
  {
   "cell_type": "markdown",
   "metadata": {
    "colab_type": "text",
    "id": "qPBYk3nEtxx3"
   },
   "source": [
    "<p>At first we have to include several helpers that will support our analysis:</p>"
   ]
  },
  {
   "cell_type": "code",
   "execution_count": 50,
   "metadata": {
    "colab": {},
    "colab_type": "code",
    "id": "CZdNzOlxtxx5"
   },
   "outputs": [],
   "source": [
    "#include <iostream>\n",
    "#include <string>\n",
    "#include <stdio.h>\n",
    "#include <cmath>"
   ]
  },
  {
   "cell_type": "markdown",
   "metadata": {
    "colab_type": "text",
    "id": "OsKhJOlXtxyL"
   },
   "source": [
    "Next we have to open the data that we want to analyze. As described above the data is stored in a _*.root_ file. This is a root file containing tracks and calorimeter clusters"
   ]
  },
  {
   "cell_type": "code",
   "execution_count": 2,
   "metadata": {
    "colab": {},
    "colab_type": "code",
    "id": "RxVspokwtxyN"
   },
   "outputs": [],
   "source": [
    "TFile *file = TFile::Open(\"Tracks_Clusters.root\"); "
   ]
  },
  {
   "cell_type": "markdown",
   "metadata": {
    "colab_type": "text",
    "id": "iwd5ICZvtxyY"
   },
   "source": [
    "The next step is to define a tree named _tree_ to get the data out of the _*.root_ file. The tree in this root file is called \"JetRecoTree\". We will then print the contents of the tree to find the names of the variables. "
   ]
  },
  {
   "cell_type": "code",
   "execution_count": 3,
   "metadata": {
    "colab": {},
    "colab_type": "code",
    "id": "wy_nWdE3txyZ",
    "outputId": "f993df64-54d5-422a-b68d-2704bea31b2e"
   },
   "outputs": [
    {
     "name": "stdout",
     "output_type": "stream",
     "text": [
      "******************************************************************************\n",
      "*Tree    :JetRecoTree: JetRecoTree                                            *\n",
      "*Entries :   102900 : Total =      3334789039 bytes  File  Size = 2227126936 *\n",
      "*        :          : Tree compression factor =   1.50                       *\n",
      "******************************************************************************\n",
      "*Br    0 :EventNumber : EventNumber/l                                        *\n",
      "*Entries :   102900 : Total  Size=     836872 bytes  File Size  =     448624 *\n",
      "*Baskets :      127 : Basket Size=       7219 bytes  Compression=   1.86     *\n",
      "*............................................................................*\n",
      "*Br    1 :RunNumber : RunNumber/l                                            *\n",
      "*Entries :   102900 : Total  Size=     836610 bytes  File Size  =      20416 *\n",
      "*Baskets :      127 : Basket Size=       7219 bytes  Compression=  40.84     *\n",
      "*............................................................................*\n",
      "*Br    2 :EventWeight : EventWeight/f                                        *\n",
      "*Entries :   102900 : Total  Size=     418649 bytes  File Size  =     402832 *\n",
      "*Baskets :       64 : Basket Size=       7219 bytes  Compression=   1.04     *\n",
      "*............................................................................*\n",
      "*Br    3 :mu_average : mu_average/f                                          *\n",
      "*Entries :   102900 : Total  Size=     418581 bytes  File Size  =     168998 *\n",
      "*Baskets :       64 : Basket Size=       7219 bytes  Compression=   2.47     *\n",
      "*............................................................................*\n",
      "*Br    4 :mu_actual : mu_actual/f                                            *\n",
      "*Entries :   102900 : Total  Size=     418513 bytes  File Size  =     168934 *\n",
      "*Baskets :       64 : Basket Size=       7219 bytes  Compression=   2.47     *\n",
      "*............................................................................*\n",
      "*Br    5 :NPV       : NPV/i                                                  *\n",
      "*Entries :   102900 : Total  Size=     418105 bytes  File Size  =     121543 *\n",
      "*Baskets :       64 : Basket Size=       7219 bytes  Compression=   3.43     *\n",
      "*............................................................................*\n",
      "*Br    6 :Tracks_pt : vector<float>                                          *\n",
      "*Entries :   102900 : Total  Size=  262928429 bytes  File Size  =  232265540 *\n",
      "*Baskets :      128 : Basket Size=    3622912 bytes  Compression=   1.13     *\n",
      "*............................................................................*\n",
      "*Br    7 :Tracks_eta : vector<float>                                         *\n",
      "*Entries :   102900 : Total  Size=  262928561 bytes  File Size  =  243525928 *\n",
      "*Baskets :      128 : Basket Size=    3622912 bytes  Compression=   1.08     *\n",
      "*............................................................................*\n",
      "*Br    8 :Tracks_phi : vector<float>                                         *\n",
      "*Entries :   102900 : Total  Size=  262928561 bytes  File Size  =  243555112 *\n",
      "*Baskets :      128 : Basket Size=    3622912 bytes  Compression=   1.08     *\n",
      "*............................................................................*\n",
      "*Br    9 :Tracks_m  : vector<float>                                          *\n",
      "*Entries :   102900 : Total  Size=  262928297 bytes  File Size  =  128758959 *\n",
      "*Baskets :      128 : Basket Size=    3622912 bytes  Compression=   2.04     *\n",
      "*............................................................................*\n",
      "*Br   10 :Tracks_vtx : vector<int>                                           *\n",
      "*Entries :   102900 : Total  Size=  262928561 bytes  File Size  =   58998852 *\n",
      "*Baskets :      128 : Basket Size=    3622912 bytes  Compression=   4.46     *\n",
      "*............................................................................*\n",
      "*Br   11 :Clusters_pt : vector<float>                                        *\n",
      "*Entries :   102900 : Total  Size=  244379153 bytes  File Size  =  221895864 *\n",
      "*Baskets :      128 : Basket Size=    3622912 bytes  Compression=   1.10     *\n",
      "*............................................................................*\n",
      "*Br   12 :Clusters_eta : vector<float>                                       *\n",
      "*Entries :   102900 : Total  Size=  244379285 bytes  File Size  =  226601845 *\n",
      "*Baskets :      128 : Basket Size=    3622912 bytes  Compression=   1.08     *\n",
      "*............................................................................*\n",
      "*Br   13 :Clusters_phi : vector<float>                                       *\n",
      "*Entries :   102900 : Total  Size=  244379285 bytes  File Size  =  225357711 *\n",
      "*Baskets :      128 : Basket Size=    3622912 bytes  Compression=   1.08     *\n",
      "*............................................................................*\n",
      "*Br   14 :Clusters_m : vector<float>                                         *\n",
      "*Entries :   102900 : Total  Size=  244379021 bytes  File Size  =    2688240 *\n",
      "*Baskets :      128 : Basket Size=    3622912 bytes  Compression=  90.91     *\n",
      "*............................................................................*\n",
      "*Br   15 :Particles_pt : vector<float>                                       *\n",
      "*Entries :   102900 : Total  Size=  181674395 bytes  File Size  =  167488975 *\n",
      "*Baskets :       65 : Basket Size=    3622912 bytes  Compression=   1.08     *\n",
      "*............................................................................*\n",
      "*Br   16 :Particles_eta : vector<float>                                      *\n",
      "*Entries :   102900 : Total  Size=  181674464 bytes  File Size  =  168944905 *\n",
      "*Baskets :       65 : Basket Size=    3622912 bytes  Compression=   1.08     *\n",
      "*............................................................................*\n",
      "*Br   17 :Particles_phi : vector<float>                                      *\n",
      "*Entries :   102900 : Total  Size=  181674464 bytes  File Size  =  168168066 *\n",
      "*Baskets :       65 : Basket Size=    3622912 bytes  Compression=   1.08     *\n",
      "*............................................................................*\n",
      "*Br   18 :Particles_m : vector<float>                                        *\n",
      "*Entries :   102900 : Total  Size=  181674326 bytes  File Size  =   21893813 *\n",
      "*Baskets :       65 : Basket Size=    3622912 bytes  Compression=   8.30     *\n",
      "*............................................................................*\n",
      "*Br   19 :Particles_pdgID : vector<int>                                      *\n",
      "*Entries :   102900 : Total  Size=  181674602 bytes  File Size  =   26491397 *\n",
      "*Baskets :       65 : Basket Size=    3622912 bytes  Compression=   6.86     *\n",
      "*............................................................................*\n",
      "*Br   20 :RecoJets_R4_pt : vector<float>                                     *\n",
      "*Entries :   102900 : Total  Size=    8399881 bytes  File Size  =    6970572 *\n",
      "*Baskets :       65 : Basket Size=     254464 bytes  Compression=   1.20     *\n",
      "*............................................................................*\n",
      "*Br   21 :RecoJets_R4_eta : vector<float>                                    *\n",
      "*Entries :   102900 : Total  Size=    8399950 bytes  File Size  =    7257663 *\n",
      "*Baskets :       65 : Basket Size=     254464 bytes  Compression=   1.16     *\n",
      "*............................................................................*\n",
      "*Br   22 :RecoJets_R4_phi : vector<float>                                    *\n",
      "*Entries :   102900 : Total  Size=    8399950 bytes  File Size  =    7235997 *\n",
      "*Baskets :       65 : Basket Size=     254464 bytes  Compression=   1.16     *\n",
      "*............................................................................*\n",
      "*Br   23 :RecoJets_R4_m : vector<float>                                      *\n",
      "*Entries :   102900 : Total  Size=    8399812 bytes  File Size  =    6985643 *\n",
      "*Baskets :       65 : Basket Size=     254464 bytes  Compression=   1.20     *\n",
      "*............................................................................*\n",
      "*Br   24 :RecoJets_R4_jvf : vector<float>                                    *\n",
      "*Entries :   102900 : Total  Size=    8399950 bytes  File Size  =    5684124 *\n",
      "*Baskets :       65 : Basket Size=     254464 bytes  Compression=   1.48     *\n",
      "*............................................................................*\n",
      "*Br   25 :TrackJets_R4_pt : vector<float>                                    *\n",
      "*Entries :   102900 : Total  Size=    3020029 bytes  File Size  =    1978875 *\n",
      "*Baskets :      128 : Basket Size=      41984 bytes  Compression=   1.52     *\n",
      "*............................................................................*\n",
      "*Br   26 :TrackJets_R4_eta : vector<float>                                   *\n",
      "*Entries :   102900 : Total  Size=    3020161 bytes  File Size  =    2013703 *\n",
      "*Baskets :      128 : Basket Size=      41984 bytes  Compression=   1.50     *\n",
      "*............................................................................*\n",
      "*Br   27 :TrackJets_R4_phi : vector<float>                                   *\n",
      "*Entries :   102900 : Total  Size=    3020161 bytes  File Size  =    2010836 *\n",
      "*Baskets :      128 : Basket Size=      41984 bytes  Compression=   1.50     *\n",
      "*............................................................................*\n",
      "*Br   28 :TrackJets_R4_m : vector<float>                                     *\n",
      "*Entries :   102900 : Total  Size=    3019897 bytes  File Size  =    1972166 *\n",
      "*Baskets :      128 : Basket Size=      41984 bytes  Compression=   1.53     *\n",
      "*............................................................................*\n",
      "*Br   29 :RecoJets_R10_pt : vector<float>                                    *\n",
      "*Entries :   102900 : Total  Size=    2251013 bytes  File Size  =    1181658 *\n",
      "*Baskets :      128 : Basket Size=      32768 bytes  Compression=   1.90     *\n",
      "*............................................................................*\n",
      "*Br   30 :RecoJets_R10_eta : vector<float>                                   *\n",
      "*Entries :   102900 : Total  Size=    2251145 bytes  File Size  =    1226587 *\n",
      "*Baskets :      128 : Basket Size=      32768 bytes  Compression=   1.83     *\n",
      "*............................................................................*\n",
      "*Br   31 :RecoJets_R10_phi : vector<float>                                   *\n",
      "*Entries :   102900 : Total  Size=    2251145 bytes  File Size  =    1223360 *\n",
      "*Baskets :      128 : Basket Size=      32768 bytes  Compression=   1.84     *\n",
      "*............................................................................*\n",
      "*Br   32 :RecoJets_R10_m : vector<float>                                     *\n",
      "*Entries :   102900 : Total  Size=    2250881 bytes  File Size  =    1181924 *\n",
      "*Baskets :      128 : Basket Size=      32768 bytes  Compression=   1.90     *\n",
      "*............................................................................*\n",
      "*Br   33 :RecoJets_R10_D2beta1 : vector<float>                               *\n",
      "*Entries :   102900 : Total  Size=    2251673 bytes  File Size  =    1189408 *\n",
      "*Baskets :      128 : Basket Size=      32768 bytes  Compression=   1.89     *\n",
      "*............................................................................*\n",
      "*Br   34 :RecoJets_R10_tau32wta : vector<float>                              *\n",
      "*Entries :   102900 : Total  Size=    2251805 bytes  File Size  =    1137893 *\n",
      "*Baskets :      128 : Basket Size=      32768 bytes  Compression=   1.98     *\n",
      "*............................................................................*\n",
      "*Br   35 :RecoJets_R10_Trimmed_pt : vector<float>                            *\n",
      "*Entries :   102900 : Total  Size=    2252069 bytes  File Size  =    1193515 *\n",
      "*Baskets :      128 : Basket Size=      32768 bytes  Compression=   1.88     *\n",
      "*............................................................................*\n",
      "*Br   36 :RecoJets_R10_Trimmed_eta : vector<float>                           *\n",
      "*Entries :   102900 : Total  Size=    2252201 bytes  File Size  =    1227822 *\n",
      "*Baskets :      128 : Basket Size=      32768 bytes  Compression=   1.83     *\n",
      "*............................................................................*\n",
      "*Br   37 :RecoJets_R10_Trimmed_phi : vector<float>                           *\n",
      "*Entries :   102900 : Total  Size=    2252201 bytes  File Size  =    1224259 *\n",
      "*Baskets :      128 : Basket Size=      32768 bytes  Compression=   1.84     *\n",
      "*............................................................................*\n",
      "*Br   38 :RecoJets_R10_Trimmed_m : vector<float>                             *\n",
      "*Entries :   102900 : Total  Size=    2251937 bytes  File Size  =    1201169 *\n",
      "*Baskets :      128 : Basket Size=      32768 bytes  Compression=   1.87     *\n",
      "*............................................................................*\n",
      "*Br   39 :RecoJets_R10_Trimmed_D2beta1 : vector<float>                       *\n",
      "*Entries :   102900 : Total  Size=    2252729 bytes  File Size  =    1186517 *\n",
      "*Baskets :      128 : Basket Size=      32768 bytes  Compression=   1.90     *\n",
      "*............................................................................*\n",
      "*Br   40 :RecoJets_R10_Trimmed_tau32wta : vector<float>                      *\n",
      "*Entries :   102900 : Total  Size=    2252861 bytes  File Size  =    1165565 *\n",
      "*Baskets :      128 : Basket Size=      32768 bytes  Compression=   1.93     *\n",
      "*............................................................................*\n",
      "*Br   41 :TruthJets_R4_pt : vector<float>                                    *\n",
      "*Entries :   102900 : Total  Size=    5663442 bytes  File Size  =    4523590 *\n",
      "*Baskets :       65 : Basket Size=     120832 bytes  Compression=   1.25     *\n",
      "*............................................................................*\n",
      "*Br   42 :TruthJets_R4_eta : vector<float>                                   *\n",
      "*Entries :   102900 : Total  Size=    5663511 bytes  File Size  =    4595498 *\n",
      "*Baskets :       65 : Basket Size=     120832 bytes  Compression=   1.23     *\n",
      "*............................................................................*\n",
      "*Br   43 :TruthJets_R4_phi : vector<float>                                   *\n",
      "*Entries :   102900 : Total  Size=    5663511 bytes  File Size  =    4570123 *\n",
      "*Baskets :       65 : Basket Size=     120832 bytes  Compression=   1.24     *\n",
      "*............................................................................*\n",
      "*Br   44 :TruthJets_R4_m : vector<float>                                     *\n",
      "*Entries :   102900 : Total  Size=    5663373 bytes  File Size  =    4494532 *\n",
      "*Baskets :       65 : Basket Size=     120832 bytes  Compression=   1.26     *\n",
      "*............................................................................*\n",
      "*Br   45 :TruthJets_R10_pt : vector<float>                                   *\n",
      "*Entries :   102900 : Total  Size=    2261873 bytes  File Size  =    1196555 *\n",
      "*Baskets :      128 : Basket Size=      32256 bytes  Compression=   1.89     *\n",
      "*............................................................................*\n",
      "*Br   46 :TruthJets_R10_eta : vector<float>                                  *\n",
      "*Entries :   102900 : Total  Size=    2262005 bytes  File Size  =    1236630 *\n",
      "*Baskets :      128 : Basket Size=      32256 bytes  Compression=   1.83     *\n",
      "*............................................................................*\n",
      "*Br   47 :TruthJets_R10_phi : vector<float>                                  *\n",
      "*Entries :   102900 : Total  Size=    2262005 bytes  File Size  =    1232418 *\n",
      "*Baskets :      128 : Basket Size=      32256 bytes  Compression=   1.83     *\n",
      "*............................................................................*\n",
      "*Br   48 :TruthJets_R10_m : vector<float>                                    *\n",
      "*Entries :   102900 : Total  Size=    2261741 bytes  File Size  =    1198650 *\n",
      "*Baskets :      128 : Basket Size=      32256 bytes  Compression=   1.88     *\n",
      "*............................................................................*\n",
      "*Br   49 :TruthJets_R10_D2beta1 : vector<float>                              *\n",
      "*Entries :   102900 : Total  Size=    2262533 bytes  File Size  =    1208086 *\n",
      "*Baskets :      128 : Basket Size=      32256 bytes  Compression=   1.87     *\n",
      "*............................................................................*\n",
      "*Br   50 :TruthJets_R10_tau32wta : vector<float>                             *\n",
      "*Entries :   102900 : Total  Size=    2262665 bytes  File Size  =    1151969 *\n",
      "*Baskets :      128 : Basket Size=      32256 bytes  Compression=   1.96     *\n",
      "*............................................................................*\n",
      "*Br   51 :TruthJets_R10_Trimmed_pt : vector<float>                           *\n",
      "*Entries :   102900 : Total  Size=    2262929 bytes  File Size  =    1200297 *\n",
      "*Baskets :      128 : Basket Size=      32256 bytes  Compression=   1.88     *\n",
      "*............................................................................*\n",
      "*Br   52 :TruthJets_R10_Trimmed_eta : vector<float>                          *\n",
      "*Entries :   102900 : Total  Size=    2263061 bytes  File Size  =    1237632 *\n",
      "*Baskets :      128 : Basket Size=      32256 bytes  Compression=   1.83     *\n",
      "*............................................................................*\n",
      "*Br   53 :TruthJets_R10_Trimmed_phi : vector<float>                          *\n",
      "*Entries :   102900 : Total  Size=    2263061 bytes  File Size  =    1233325 *\n",
      "*Baskets :      128 : Basket Size=      32256 bytes  Compression=   1.83     *\n",
      "*............................................................................*\n",
      "*Br   54 :TruthJets_R10_Trimmed_m : vector<float>                            *\n",
      "*Entries :   102900 : Total  Size=    2262797 bytes  File Size  =    1211653 *\n",
      "*Baskets :      128 : Basket Size=      32256 bytes  Compression=   1.87     *\n",
      "*............................................................................*\n",
      "*Br   55 :TruthJets_R10_Trimmed_D2beta1 : vector<float>                      *\n",
      "*Entries :   102900 : Total  Size=    2263589 bytes  File Size  =    1203277 *\n",
      "*Baskets :      128 : Basket Size=      32256 bytes  Compression=   1.88     *\n",
      "*............................................................................*\n",
      "*Br   56 :TruthJets_R10_Trimmed_tau32wta : vector<float>                     *\n",
      "*Entries :   102900 : Total  Size=    2263721 bytes  File Size  =    1159033 *\n",
      "*Baskets :      128 : Basket Size=      32256 bytes  Compression=   1.95     *\n",
      "*............................................................................*\n"
     ]
    }
   ],
   "source": [
    "TTree *tree = (TTree*) file->Get(\"JetRecoTree\");\n",
    "tree->Print()"
   ]
  },
  {
   "cell_type": "markdown",
   "metadata": {
    "colab_type": "text",
    "id": "ks8uYsnNtxyl"
   },
   "source": [
    "\n",
    "<p>The next step is to extract the varibles we want from the dataset. We will explore two jet types: \"Reco\" (reconstructed from the calorimeter) and \"Truth\"(particle level). Activate \"Event Weight\". "
   ]
  },
  {
   "cell_type": "code",
   "execution_count": 4,
   "metadata": {
    "colab": {},
    "colab_type": "code",
    "id": "lZPgA0jvtxyo"
   },
   "outputs": [],
   "source": [
    "float evtw = -1;\n",
    "vector<float> *reco_R4_pt;\n",
    "vector<float> *truth_R4_pt;\n",
    "\n",
    "tree->SetBranchAddress(\"EventWeight\", &evtw);\n",
    "tree->SetBranchAddress(\"RecoJets_R4_pt\", &reco_R4_pt);\n",
    "tree->SetBranchAddress(\"TruthJets_R4_pt\", &truth_R4_pt);"
   ]
  },
  {
   "cell_type": "markdown",
   "metadata": {
    "colab_type": "text",
    "id": "lVWWuFLQtxyx"
   },
   "source": [
    "Create Canvas"
   ]
  },
  {
   "cell_type": "code",
   "execution_count": 5,
   "metadata": {
    "colab": {},
    "colab_type": "code",
    "id": "w0_VAeybtxyz"
   },
   "outputs": [],
   "source": [
    "TCanvas *canvas = new TCanvas(\"Canvas\",\"\",800,600);"
   ]
  },
  {
   "cell_type": "markdown",
   "metadata": {
    "colab_type": "text",
    "id": "bI8jAKK7txy8"
   },
   "source": [
    "Create histograms: Leading jet pT and all jets pT "
   ]
  },
  {
   "cell_type": "code",
   "execution_count": 6,
   "metadata": {
    "colab": {},
    "colab_type": "code",
    "id": "y_pjbijntxy9"
   },
   "outputs": [],
   "source": [
    "TH1F *hist_leadreco_pt = new TH1F(\"Lead Reco-jet\",\"Leading jet pT; pT(GeV);Events\",50,10,200);\n",
    "TH1F *hist_reco_pt = new TH1F(\"Reco-jet\",\"Jet pT; pT(GeV);Events\",50,10,200);"
   ]
  },
  {
   "cell_type": "markdown",
   "metadata": {
    "colab_type": "text",
    "id": "V-m18dchtxzD"
   },
   "source": [
    "Loop and fill histograms"
   ]
  },
  {
   "cell_type": "code",
   "execution_count": 7,
   "metadata": {
    "colab": {},
    "colab_type": "code",
    "id": "2jEf3O89txzE",
    "outputId": "42843201-8f00-458f-da01-2cf87dffb2ba"
   },
   "outputs": [
    {
     "name": "stdout",
     "output_type": "stream",
     "text": [
      "Done!\n"
     ]
    }
   ],
   "source": [
    "int nentries, nbytes, i;\n",
    "nentries = (Int_t)tree->GetEntries();\n",
    "\n",
    "for (i = 0; i < nentries; i++)\n",
    "{\n",
    "    nbytes = tree->GetEntry(i);   \n",
    "    if(reco_R4_pt->size()>0){\n",
    "    hist_leadreco_pt->Fill(reco_R4_pt->at(0)/1000.,evtw);  \n",
    "    for(int j=0; j<reco_R4_pt->size(); j++){\n",
    "        hist_reco_pt->Fill(reco_R4_pt->at(j)/1000.,evtw);     \n",
    "    }\n",
    "    }\n",
    "}\n",
    "\n",
    "std::cout << \"Done!\" << std::endl;"
   ]
  },
  {
   "cell_type": "markdown",
   "metadata": {
    "colab_type": "text",
    "id": "0BY0TFKotxzL"
   },
   "source": [
    "<p>Draw</p>"
   ]
  },
  {
   "cell_type": "code",
   "execution_count": 8,
   "metadata": {
    "colab": {},
    "colab_type": "code",
    "id": "IJh0pFxOtxzM",
    "outputId": "9613898f-7bbd-4e38-e550-faa1503351fb"
   },
   "outputs": [
    {
     "data": {
      "image/png": "[encoded data removed]",
      "text/plain": [
       "<IPython.core.display.Image object>"
      ]
     },
     "metadata": {},
     "output_type": "display_data"
    }
   ],
   "source": [
    "hist_reco_pt->SetMarkerStyle(20);\n",
    "hist_reco_pt->SetMarkerColor(kRed);\n",
    "hist_reco_pt->Draw(\"\");\n",
    "hist_leadreco_pt->SetMarkerStyle(21);\n",
    "hist_leadreco_pt->Draw(\"same\");\n",
    "canvas->SetLogy();\n",
    "canvas->Draw();"
   ]
  },
  {
   "cell_type": "markdown",
   "metadata": {
    "colab_type": "text",
    "id": "B8gTp8NGtxzT"
   },
   "source": [
    "<b>Excercises: \n",
    "    1. Compare the leading truth jet pT with the leading reco jet pT, with and without event weights.\n",
    "    2. Repeat for all jets pT.\n",
    "</b>"
   ]
  },
  {
   "cell_type": "markdown",
   "metadata": {
    "colab_type": "text",
    "id": "rcXdIyBVtxzV"
   },
   "source": [
    "Now we will study the jets pileup dependence "
   ]
  },
  {
   "cell_type": "code",
   "execution_count": 9,
   "metadata": {
    "colab": {},
    "colab_type": "code",
    "id": "xLI1zPavtxzV"
   },
   "outputs": [],
   "source": [
    "UInt_t npv = -1;\n",
    "tree->SetBranchAddress(\"NPV\", &npv);\n",
    "\n",
    "float mu = -1;\n",
    "tree->SetBranchAddress(\"mu_average\", &mu);"
   ]
  },
  {
   "cell_type": "markdown",
   "metadata": {
    "colab_type": "text",
    "id": "017iHgzItxzc"
   },
   "source": [
    "Plot jet pt vs. pileup"
   ]
  },
  {
   "cell_type": "code",
   "execution_count": 10,
   "metadata": {
    "colab": {},
    "colab_type": "code",
    "id": "NPvzkpuOtxze"
   },
   "outputs": [],
   "source": [
    "TH2F *hist_jetpt_npv = new TH2F(\"Reco-jet pT vs. NPV\",\";NPV; jet pT\",50,1,50, 20, 0, 200);\n",
    "TProfile *prof_jetpt_npv = new TProfile(\"Profile Reco-jet pT vs. NPV\",\";NPV; jet pT\",50,1,50, 0, 200);\n"
   ]
  },
  {
   "cell_type": "markdown",
   "metadata": {
    "colab_type": "text",
    "id": "p0l-Un__txzl"
   },
   "source": [
    "Fill the histograms: Make a cut to accept events with at least one jet and require the leading jet to have pT above 20 GeV"
   ]
  },
  {
   "cell_type": "code",
   "execution_count": 11,
   "metadata": {
    "colab": {},
    "colab_type": "code",
    "id": "jmIqQUmUtxzn",
    "outputId": "e92570ec-8fea-4f2d-ef32-08998e397cde",
    "scrolled": true
   },
   "outputs": [
    {
     "name": "stdout",
     "output_type": "stream",
     "text": [
      "Done!\n"
     ]
    }
   ],
   "source": [
    "int nentries, nbytes, i;\n",
    "nentries = (Int_t)tree->GetEntries();\n",
    "\n",
    "for (i = 0; i < nentries; i++)\n",
    "{\n",
    "    nbytes = tree->GetEntry(i);\n",
    "\n",
    "    if(reco_R4_pt->size()!=0 && reco_R4_pt->at(0)>20000.){\n",
    "        for(int j=0; j<reco_R4_pt->size(); j++){\n",
    "        hist_jetpt_npv->Fill(reco_R4_pt->at(j)/1000.,npv,evtw);\n",
    "        prof_jetpt_npv->Fill(reco_R4_pt->at(j)/1000.,npv,evtw);\n",
    "        }\n",
    "    }\n",
    "}\n",
    "\n",
    "std::cout << \"Done!\" << std::endl;"
   ]
  },
  {
   "cell_type": "code",
   "execution_count": 12,
   "metadata": {
    "colab": {},
    "colab_type": "code",
    "id": "weUcGnjttxzs"
   },
   "outputs": [],
   "source": [
    "TCanvas *canvas2 = new TCanvas(\"Canvas2\",\"\",800,600);"
   ]
  },
  {
   "cell_type": "code",
   "execution_count": 13,
   "metadata": {
    "colab": {},
    "colab_type": "code",
    "id": "1J_qIgWqtxzz",
    "outputId": "1a73edca-2b2e-4ab0-925e-507e7953ff75"
   },
   "outputs": [
    {
     "data": {
      "image/png": "[encoded data removed]",
      "text/plain": [
       "<IPython.core.display.Image object>"
      ]
     },
     "metadata": {},
     "output_type": "display_data"
    }
   ],
   "source": [
    "hist_jetpt_npv->Draw(\"colz\");\n",
    "canvas2->Draw();"
   ]
  },
  {
   "cell_type": "code",
   "execution_count": 14,
   "metadata": {
    "colab": {},
    "colab_type": "code",
    "id": "-DqPHdWytxz7",
    "outputId": "060b4aa5-984c-4fb6-e167-2deb8c76447d"
   },
   "outputs": [
    {
     "data": {
      "image/png": "[encoded data removed]",
      "text/plain": [
       "<IPython.core.display.Image object>"
      ]
     },
     "metadata": {},
     "output_type": "display_data"
    }
   ],
   "source": [
    "prof_jetpt_npv->Draw(\"\");\n",
    "canvas2->Draw();"
   ]
  },
  {
   "cell_type": "markdown",
   "metadata": {
    "colab_type": "text",
    "id": "Lekezc7wtx0A"
   },
   "source": [
    "<b>Excercise: \n",
    "3. Make plots for reco and truth jet pT vs. pileup. Interpret your results. \n",
    "</b>"
   ]
  },
  {
   "cell_type": "markdown",
   "metadata": {
    "colab_type": "text",
    "id": "7fIv7bgTtx0B"
   },
   "source": [
    "Plot the JVF (Jet Vertex Fraction) variable"
   ]
  },
  {
   "cell_type": "code",
   "execution_count": 15,
   "metadata": {
    "colab": {},
    "colab_type": "code",
    "id": "kmxLPjwxtx0C"
   },
   "outputs": [],
   "source": [
    "vector<float> *reco_R4_jvf;\n",
    "\n",
    "tree->SetBranchAddress(\"RecoJets_R4_jvf\", &reco_R4_jvf);"
   ]
  },
  {
   "cell_type": "code",
   "execution_count": 16,
   "metadata": {
    "colab": {},
    "colab_type": "code",
    "id": "jPQIP57jtx0K",
    "outputId": "82697688-3cb3-4e7f-e8eb-1e9be4cd3d30"
   },
   "outputs": [
    {
     "name": "stderr",
     "output_type": "stream",
     "text": [
      "Warning in <TFile::Append>: Replacing existing TH1: Lead Reco-jet JVF (Potential memory leak).\n"
     ]
    }
   ],
   "source": [
    "TH1F *hist_leadreco_jvf = new TH1F(\"Lead Reco-jet JVF\",\"Leading jet JVF; JVF;Events\",20,-1,1);\n",
    "TH1F *hist_leadreco100_jvf = new TH1F(\"Lead Reco-jet JVF\",\"Leading jet JVF; JVF;Events\",20,-1,1);"
   ]
  },
  {
   "cell_type": "code",
   "execution_count": 17,
   "metadata": {
    "colab": {},
    "colab_type": "code",
    "id": "Qgsv5CDrtx0O",
    "outputId": "747ae69b-2732-4fcb-f51e-319922c969a4"
   },
   "outputs": [
    {
     "name": "stdout",
     "output_type": "stream",
     "text": [
      "Done!\n"
     ]
    }
   ],
   "source": [
    "int nentries, nbytes, i;\n",
    "nentries = (Int_t)tree->GetEntries();\n",
    "\n",
    "for (i = 0; i < nentries; i++)\n",
    "{\n",
    "    nbytes = tree->GetEntry(i);\n",
    "\n",
    "    if(reco_R4_pt->size()!=0 && reco_R4_pt->at(0)>20000.){\n",
    "        hist_leadreco_jvf->Fill(reco_R4_jvf->at(0), evtw);\n",
    "        if(reco_R4_pt->at(0)>100000.){hist_leadreco100_jvf->Fill(reco_R4_jvf->at(0), evtw);}\n",
    "        \n",
    "    }\n",
    "}\n",
    "\n",
    "std::cout << \"Done!\" << std::endl;"
   ]
  },
  {
   "cell_type": "code",
   "execution_count": 18,
   "metadata": {
    "colab": {},
    "colab_type": "code",
    "id": "D2hOU3hgtx0T",
    "outputId": "a8c342d4-ec60-46d2-8943-2f3ede6fa027"
   },
   "outputs": [
    {
     "data": {
      "image/png": "[encoded data removed]",
      "text/plain": [
       "<IPython.core.display.Image object>"
      ]
     },
     "metadata": {},
     "output_type": "display_data"
    }
   ],
   "source": [
    "hist_leadreco_jvf->SetMarkerStyle(20);\n",
    "hist_leadreco_jvf->SetMarkerColor(kRed);\n",
    "hist_leadreco_jvf->DrawNormalized(\"\");\n",
    "hist_leadreco100_jvf->SetMarkerStyle(22);\n",
    "hist_leadreco100_jvf->SetMarkerColor(kBlue);\n",
    "hist_leadreco100_jvf->DrawNormalized(\"same\");\n",
    "canvas2->Draw();"
   ]
  },
  {
   "cell_type": "markdown",
   "metadata": {
    "colab_type": "text",
    "id": "JDBk7keYtx0Y"
   },
   "source": [
    "<b>Excercise: \n",
    "4. Use a |JVF|>0.5 cut to compare the leading jet pT for truth jets, reco jets (w.o. the cut), and reco jets (with the cut) \n",
    "5. Repeat the same plots and comparisons with \"Track-jets\" and verify that they are stable against pileup \n",
    "</b>"
   ]
  },
  {
   "cell_type": "markdown",
   "metadata": {
    "colab_type": "text",
    "id": "cCMTHBDatx0Z"
   },
   "source": [
    "Now we will study the jet response: the ratio between the pT of the jet to the truth jet. First we should \"match\" the jets and the truth jets. We will use the distance DeltaR between the two, but first we should define them as four-vectors:"
   ]
  },
  {
   "cell_type": "code",
   "execution_count": 19,
   "metadata": {
    "colab": {},
    "colab_type": "code",
    "id": "uste5uugtx0b"
   },
   "outputs": [],
   "source": [
    "vector<float> *reco_R4_eta;\n",
    "vector<float> *reco_R4_phi;\n",
    "vector<float> *reco_R4_m;\n",
    "\n",
    "vector<float> *truth_R4_eta;\n",
    "vector<float> *truth_R4_phi;\n",
    "vector<float> *truth_R4_m;\n",
    "\n",
    "tree->SetBranchAddress(\"RecoJets_R4_eta\", &reco_R4_eta);\n",
    "tree->SetBranchAddress(\"RecoJets_R4_phi\", &reco_R4_phi);\n",
    "tree->SetBranchAddress(\"RecoJets_R4_m\", &reco_R4_m);\n",
    "tree->SetBranchAddress(\"TruthJets_R4_eta\", &truth_R4_eta);\n",
    "tree->SetBranchAddress(\"TruthJets_R4_phi\", &truth_R4_phi);\n",
    "tree->SetBranchAddress(\"TruthJets_R4_m\", &truth_R4_m);"
   ]
  },
  {
   "cell_type": "code",
   "execution_count": 20,
   "metadata": {
    "colab": {},
    "colab_type": "code",
    "id": "3Bg--Ifwtx0i"
   },
   "outputs": [],
   "source": [
    "TH1F *hist_DR_reco_truth = new TH1F(\"Delta R reco\",\"Delta R; #Delta R; Events\",20,0,2);"
   ]
  },
  {
   "cell_type": "code",
   "execution_count": 21,
   "metadata": {
    "colab": {},
    "colab_type": "code",
    "id": "AP4zKfWVtx0r",
    "outputId": "a9c54468-6a23-43b5-cc98-a037da950eab"
   },
   "outputs": [
    {
     "name": "stdout",
     "output_type": "stream",
     "text": [
      "Done!\n"
     ]
    }
   ],
   "source": [
    "int nentries, nbytes, i;\n",
    "nentries = (Int_t)tree->GetEntries();\n",
    "\n",
    "for (i = 0; i < nentries; i++)\n",
    "{\n",
    "    nbytes = tree->GetEntry(i);\n",
    "\n",
    "    if(truth_R4_pt->size()!=0 && truth_R4_pt->at(0)>20000.){\n",
    "    TLorentzVector truthJet;\n",
    "    truthJet.SetPtEtaPhiM(truth_R4_pt->at(0),truth_R4_eta->at(0),truth_R4_phi->at(0),truth_R4_m->at(0));        \n",
    "    if(reco_R4_pt->size()!=0 && fabs(reco_R4_jvf->at(0))>0.5){\n",
    "    TLorentzVector recoJet;\n",
    "    recoJet.SetPtEtaPhiM(reco_R4_pt->at(0),reco_R4_eta->at(0),reco_R4_phi->at(0),reco_R4_m->at(0));        \n",
    " \n",
    "        //Plot the Delta R\n",
    "        hist_DR_reco_truth->Fill(truthJet.DeltaR(recoJet),evtw);\n",
    "    }\n",
    "    }\n",
    "}\n",
    "\n",
    "std::cout << \"Done!\" << std::endl;\n"
   ]
  },
  {
   "cell_type": "code",
   "execution_count": 22,
   "metadata": {
    "colab": {},
    "colab_type": "code",
    "id": "8ImQgmgMtx09",
    "outputId": "99e3a245-6b1a-4b71-e486-171901944069"
   },
   "outputs": [
    {
     "data": {
      "image/png": "[encoded data removed]",
      "text/plain": [
       "<IPython.core.display.Image object>"
      ]
     },
     "metadata": {},
     "output_type": "display_data"
    }
   ],
   "source": [
    "hist_DR_reco_truth->Scale(1/hist_DR_reco_truth->Integral());\n",
    "hist_DR_reco_truth->DrawNormalized(\"\");\n",
    "canvas2->Draw();"
   ]
  },
  {
   "cell_type": "markdown",
   "metadata": {
    "colab_type": "text",
    "id": "R4HyaG9etx1C"
   },
   "source": [
    "<b>Excercise: \n",
    "6. Repeat for track-jets and make a plot comparing three cases: reco-jets with and without the JVF cut, and track-jets \n",
    "</b>"
   ]
  },
  {
   "cell_type": "markdown",
   "metadata": {
    "colab_type": "text",
    "id": "b0nx_cbKtx1E"
   },
   "source": [
    "<b>Excercises: \n",
    "7. Plot the response: For matched jets (use DeltaR<0.3), plot pTjet/pTtruth for 3 cases: truth_pT>20 GeV, 100 GeV, 500 GeV. Do this for track jets and reco jets (two plots).\n",
    "8. Investigate the Large-R jets: \n",
    "    (a) Plot the leading jet pT for reco_R10 and reco_R10_Trimmed jets\n",
    "    (b) Plot the leading jet pT for truth_R10 and truth_R10_Trimmed jets\n",
    "    (c) Compare all plots. How can you explain the differences?\n",
    "    (d) Make the same comparisson for the jet mass.  \n",
    "\n",
    "</b>"
   ]
  },
  {
   "cell_type": "markdown",
   "metadata": {
    "colab": {},
    "colab_type": "code",
    "id": "HPTae5ejtx1G"
   },
   "source": [
    "# Excercise"
   ]
  },
  {
   "cell_type": "markdown",
   "metadata": {},
   "source": [
    "<b>\n",
    "1. Compare the leading truth jet pT with the leading reco jet pT, with and without event weights.\n",
    "    </b>"
   ]
  },
  {
   "cell_type": "code",
   "execution_count": 23,
   "metadata": {},
   "outputs": [],
   "source": [
    "TCanvas *canvas11 = new TCanvas(\"Canvas11\",\"\", 800,600);"
   ]
  },
  {
   "cell_type": "code",
   "execution_count": 24,
   "metadata": {},
   "outputs": [],
   "source": [
    "TH1F *hi_leadreco_pt = new TH1F(\"Lead reco jet pt\", \"Lead reco jet pt; pT(GeV); Events\", 40, 10, 300);\n",
    "TH1F *hi_leadreco_pt_we = new TH1F(\"Lead reco jet pt weight\", \"Lead reco jet pt_weight; pT(GeV); Events\", 40, 10, 300);\n",
    "TH1F *hi_leadtru_pt = new TH1F(\"Lead truth jet pt\", \"Lead truth jet pt; pT(GeV); Events\", 40,10,300);\n",
    "TH1F *hi_leadtru_pt_we = new TH1F(\"Lead truth jet pt weight\", \"Lead truth jet pt_weight; pT(GeV); Events\", 40,10,300);"
   ]
  },
  {
   "cell_type": "code",
   "execution_count": 25,
   "metadata": {},
   "outputs": [
    {
     "name": "stderr",
     "output_type": "stream",
     "text": [
      "Warning in <TFile::Append>: Replacing existing TH1: Lead Track jet pt weight (Potential memory leak).\n"
     ]
    }
   ],
   "source": [
    "TH1F *hi_reco_pt = new TH1F(\"reco jet pt\",\"reco jet; pT(GeV), Events\", 40,10,300);\n",
    "TH1F *hi_reco_pt_we = new TH1F(\"reco jet pt weight\", \"reco jet weight; pT(GeV), Events\", 40, 10, 300);\n",
    "TH1F *hi_tru_pt = new TH1F(\"truth jet pt\",\"truth jet; pT(GeV), Events\", 40,10,300);\n",
    "TH1F *hi_tru_pt_we = new TH1F(\"truth jet pt weight\", \"truth jet weight; pT(GeV), Events\", 40, 10, 300);\n",
    "//-----------------------TrackJets_R4_pt-----------------------------------\n",
    "TH1F *hi_tra_pt = new TH1F(\"Track jet pt\", \"track jet; pT(GeV), Events\", 40,10,300);\n",
    "TH1F *hi_tra_pt_we = new TH1F(\"Track jet pt weight\", \"track jet weight; pT(GeV), Events\", 40,10,300);\n",
    "TH1F *hi_leadtra_pt = new TH1F(\"Lead Track jet pt weight\", \"track jet weight; pT(GeV), Events\", 40,10,300);\n",
    "TH1F *hi_leadtra_pt_we = new TH1F(\"Lead Track jet pt weight\", \"track jet weight; pT(GeV), Events\", 40,10,300);\n"
   ]
  },
  {
   "cell_type": "code",
   "execution_count": 26,
   "metadata": {},
   "outputs": [
    {
     "name": "stdout",
     "output_type": "stream",
     "text": [
      "done\n"
     ]
    }
   ],
   "source": [
    "int nentries, nbytes;\n",
    "nentries = (Int_t)tree->GetEntries();\n",
    "for (int i = 0; i<nentries; i++){\n",
    "    \n",
    "    nbytes = tree->GetEntry(i);\n",
    "    if (reco_R4_pt->size()>0){\n",
    "        hi_leadreco_pt->Fill(reco_R4_pt->at(0)/1000.);\n",
    "        hi_leadreco_pt_we->Fill(reco_R4_pt->at(0)/1000.,evtw);\n",
    "        /*for(int j=0; j<reco_R4_pt->size(); j++){\n",
    "            hi_reco_pt->Fill(reco_R4_pt->at(j)/1000.); \n",
    "            hi_reco_pt_we->Fill(reco_R4_pt->at(j)/1000., evtw);\n",
    "        \n",
    "    }*/\n",
    "    }\n",
    "    \n",
    "    if (truth_R4_pt->size()>0){\n",
    "        hi_leadtru_pt->Fill(truth_R4_pt->at(0)/1000.);\n",
    "        hi_leadtru_pt_we->Fill(truth_R4_pt->at(0)/1000., evtw);\n",
    "        /*for(int j=0; j<reco_R4_pt->size(); j++){\n",
    "            hi_tru_pt->Fill(truth_R4_pt->at(j)/1000.); \n",
    "            hi_tru_pt_we->Fill(truth_R4_pt->at(j)/1000., evtw);\n",
    "        \n",
    "    } */\n",
    "    }\n",
    "    \n",
    "}\n",
    "\n",
    "std::cout<<\"done\"<<std::endl;"
   ]
  },
  {
   "cell_type": "code",
   "execution_count": 27,
   "metadata": {},
   "outputs": [
    {
     "data": {
      "image/png": "[encoded data removed]",
      "text/plain": [
       "<IPython.core.display.Image object>"
      ]
     },
     "metadata": {},
     "output_type": "display_data"
    }
   ],
   "source": [
    "hi_leadreco_pt->SetMarkerStyle(20);\n",
    "hi_leadreco_pt->SetMarkerColor(30);\n",
    "hi_leadreco_pt->Draw(\"\");\n",
    "hi_leadtru_pt->SetMarkerStyle(21);\n",
    "hi_leadtru_pt->SetMarkerColor(52);\n",
    "hi_leadtru_pt->Draw(\"same\");\n",
    "\n",
    "/*\n",
    "hist_reco_pt->SetMarkerStyle(20);\n",
    "hist_reco_pt->SetMarkerColor(kRed);\n",
    "hist_reco_pt->Draw(\"\");\n",
    "hist_leadreco_pt->SetMarkerStyle(21);\n",
    "hist_leadreco_pt->Draw(\"same\");\n",
    "*/\n",
    "canvas11->SetLogy();\n",
    "canvas11->Draw();"
   ]
  },
  {
   "cell_type": "markdown",
   "metadata": {},
   "source": [
    "With weights"
   ]
  },
  {
   "cell_type": "code",
   "execution_count": 28,
   "metadata": {},
   "outputs": [],
   "source": [
    "TCanvas *canvas12 = new TCanvas(\"Canvas12\",\"Lead with weights\", 800,600);"
   ]
  },
  {
   "cell_type": "code",
   "execution_count": 29,
   "metadata": {},
   "outputs": [
    {
     "data": {
      "image/png": "[encoded data removed]",
      "text/plain": [
       "<IPython.core.display.Image object>"
      ]
     },
     "metadata": {},
     "output_type": "display_data"
    }
   ],
   "source": [
    "hi_leadreco_pt_we->SetMarkerStyle(20);\n",
    "hi_leadreco_pt_we->SetMarkerColor(30);\n",
    "hi_leadreco_pt_we->Draw(\"\");\n",
    "hi_leadtru_pt_we->SetMarkerStyle(21);\n",
    "hi_leadtru_pt_we->SetMarkerColor(52);\n",
    "hi_leadtru_pt_we->Draw(\"same\");\n",
    "\n",
    "canvas12->SetLogy();\n",
    "canvas12->Draw();"
   ]
  },
  {
   "cell_type": "markdown",
   "metadata": {},
   "source": [
    "<b>\n",
    "    2. Repeat for all jets pT.  (Revisarlo)\n",
    "    </b> "
   ]
  },
  {
   "cell_type": "code",
   "execution_count": 30,
   "metadata": {},
   "outputs": [],
   "source": [
    "vector<float> *tra_R4_pt;\n",
    "\n",
    "tree->SetBranchAddress(\"TrackJets_R4_pt\", &tra_R4_pt);"
   ]
  },
  {
   "cell_type": "code",
   "execution_count": 31,
   "metadata": {},
   "outputs": [],
   "source": [
    "for (int i = 0; i<nentries; i++){\n",
    "    \n",
    "    nbytes = tree->GetEntry(i);\n",
    "    if (reco_R4_pt->size()>0){\n",
    "        //hi_leadreco_pt->Fill(reco_R4_pt->at(0)/1000.);\n",
    "        //hi_leadreco_pt_we->Fill(reco_R4_pt->at(0)/1000.,evtw);\n",
    "        for(int j=0; j<reco_R4_pt->size(); j++){\n",
    "            hi_reco_pt->Fill(reco_R4_pt->at(j)/1000.); \n",
    "            hi_reco_pt_we->Fill(reco_R4_pt->at(j)/1000., evtw);\n",
    "        \n",
    "    }\n",
    "    }\n",
    "    \n",
    "    if (truth_R4_pt->size()>0){\n",
    "        //hi_leadtru_pt->Fill(truth_R4_pt->at(0)/1000.);\n",
    "        //hi_leadtru_pt_we->Fill(truth_R4_pt->at(0)/1000., evtw);\n",
    "        for(int j=0; j<reco_R4_pt->size(); j++){\n",
    "            hi_tru_pt->Fill(truth_R4_pt->at(j)/1000.); \n",
    "            hi_tru_pt_we->Fill(truth_R4_pt->at(j)/1000., evtw);\n",
    "        \n",
    "    }\n",
    "    }\n",
    "    \n",
    "}\n",
    "\n",
    "std::cout<<\"done\"<<std::endl;"
   ]
  },
  {
   "cell_type": "code",
   "execution_count": 37,
   "metadata": {},
   "outputs": [
    {
     "name": "stdout",
     "output_type": "stream",
     "text": [
      "done1\n"
     ]
    }
   ],
   "source": [
    "int nentries, nbytes, i;\n",
    "nentries = (Int_t)tree->GetEntries();\n",
    "for (int i = 0; i<nentries; i++){\n",
    "    \n",
    "     nbytes = tree->GetEntry(i);\n",
    "    if (tra_R4_pt->size()>0){\n",
    "        hi_leadtra_pt->Fill(tra_R4_pt->at(0)/1000.);\n",
    "        hi_leadtra_pt_we->Fill(tra_R4_pt->at(0)/1000.,evtw);\n",
    "        /*for(int j=0; j<reco_R4_pt->size(); j++){\n",
    "        hi_tra_pt->Fill(tra_R4_pt->at(j)/1000.); \n",
    "        hi_tra_pt_we->Fill(tra_R4_pt->at(j)/1000., evtw);\n",
    "        \n",
    "    }*/\n",
    "    }\n",
    "    \n",
    "}\n",
    "\n",
    "std::cout<<\"done1\"<<std::endl; "
   ]
  },
  {
   "cell_type": "code",
   "execution_count": 33,
   "metadata": {},
   "outputs": [],
   "source": [
    "TCanvas *canvas13 = new TCanvas(\"Canvas13\",\"Jets with weights\", 800,600);"
   ]
  },
  {
   "cell_type": "code",
   "execution_count": 34,
   "metadata": {},
   "outputs": [
    {
     "data": {
      "image/png": "[encoded data removed]",
      "text/plain": [
       "<IPython.core.display.Image object>"
      ]
     },
     "metadata": {},
     "output_type": "display_data"
    }
   ],
   "source": [
    "hi_reco_pt_we->SetMarkerStyle(20);\n",
    "hi_reco_pt_we->SetMarkerColor(30);\n",
    "hi_reco_pt_we->Draw(\"\");\n",
    "hi_tru_pt_we->SetMarkerStyle(21);\n",
    "hi_tru_pt_we->SetMarkerColor(52);\n",
    "hi_tru_pt_we->Draw(\"same\");\n",
    "hi_tra_pt_we->SetMarkerStyle(22);\n",
    "hi_tra_pt_we->SetMarkerColor(77);\n",
    "hi_tra_pt_we->Draw(\"same\");\n",
    "\n",
    "canvas13->SetLogy();\n",
    "canvas13->Draw();"
   ]
  },
  {
   "cell_type": "markdown",
   "metadata": {},
   "source": [
    "<b>\n",
    "3. Make plots for reco and truth jet pT vs. pileup. Interpret your results. \n",
    "</b>"
   ]
  },
  {
   "cell_type": "code",
   "execution_count": 45,
   "metadata": {},
   "outputs": [
    {
     "name": "stderr",
     "output_type": "stream",
     "text": [
      "Warning in <TFile::Append>: Replacing existing TH1: TruthJets_R4_pt vs NPV (Potential memory leak).\n",
      "Warning in <TFile::Append>: Replacing existing TH1: Profile TruthJet pT  vs NPV (Potential memory leak).\n"
     ]
    }
   ],
   "source": [
    "TH2F *hi2_trujet_pt = new TH2F(\"TruthJets_R4_pt vs NPV\", \";NPV; tru jet pT\", 50, 1, 50, 20, 0, 200);\n",
    "TProfile *prof_trujetpt_npv = new TProfile(\"Profile TruthJet pT  vs NPV\", \";NPV; tru jet pT\", 50, 1, 50,0,200);"
   ]
  },
  {
   "cell_type": "code",
   "execution_count": 46,
   "metadata": {},
   "outputs": [
    {
     "name": "stdout",
     "output_type": "stream",
     "text": [
      "done\n"
     ]
    }
   ],
   "source": [
    "int nentries, nbytes;\n",
    "nentries = (Int_t)tree->GetEntries();\n",
    "\n",
    "for (int i=0; i <nentries; i++){\n",
    "    \n",
    "    nbytes = tree->GetEntry(i);\n",
    "    \n",
    "    if(truth_R4_pt->size()!=0 && truth_R4_pt->at(0)>20000.){\n",
    "        for(int j=0; j<truth_R4_pt->size(); j++){\n",
    "        hi2_trujet_pt->Fill(truth_R4_pt->at(j)/1000.,npv,evtw);\n",
    "        prof_trujetpt_npv->Fill(truth_R4_pt->at(j)/1000.,npv,evtw);\n",
    "        }\n",
    "    }\n",
    "}\n",
    "std::cout<<\"done\"<<std::endl;"
   ]
  },
  {
   "cell_type": "code",
   "execution_count": 47,
   "metadata": {},
   "outputs": [
    {
     "name": "stderr",
     "output_type": "stream",
     "text": [
      "Warning in <TCanvas::Constructor>: Deleting canvas with same name: Canvas15\n"
     ]
    }
   ],
   "source": [
    "TCanvas *canvas15 = new TCanvas(\"Canvas15\", \"\", 800,600);"
   ]
  },
  {
   "cell_type": "code",
   "execution_count": 48,
   "metadata": {},
   "outputs": [
    {
     "data": {
      "image/png": "[encoded data removed]",
      "text/plain": [
       "<IPython.core.display.Image object>"
      ]
     },
     "metadata": {},
     "output_type": "display_data"
    }
   ],
   "source": [
    "hi2_trujet_pt->Draw(\"colz\");\n",
    "canvas15->Draw();"
   ]
  },
  {
   "cell_type": "markdown",
   "metadata": {},
   "source": [
    "Como el histrograma de dos variables no expresa mucho, se realiza uno del perfil."
   ]
  },
  {
   "cell_type": "code",
   "execution_count": 53,
   "metadata": {},
   "outputs": [
    {
     "data": {
      "image/png": "[encoded data removed]",
      "text/plain": [
       "<IPython.core.display.Image object>"
      ]
     },
     "metadata": {},
     "output_type": "display_data"
    }
   ],
   "source": [
    "prof_trujetpt_npv->Draw(\"\");\n",
    "canvas15->Draw();"
   ]
  },
  {
   "cell_type": "markdown",
   "metadata": {},
   "source": [
    "El perfil indica la"
   ]
  },
  {
   "cell_type": "markdown",
   "metadata": {},
   "source": [
    "<b>\n",
    "    4. Use a |JVF|>0.5 cut to compare the leading jet pT for truth jets, reco jets (w.o. the cut), and reco jets (with the cut) \n"
   ]
  },
  {
   "cell_type": "markdown",
   "metadata": {},
   "source": [
    "Jet Vertex Fraction (JVF)"
   ]
  },
  {
   "cell_type": "code",
   "execution_count": 54,
   "metadata": {},
   "outputs": [
    {
     "name": "stderr",
     "output_type": "stream",
     "text": [
      "Warning in <TFile::Append>: Replacing existing TH1: Lead truthjet_pt JVF (Potential memory leak).\n",
      "Warning in <TFile::Append>: Replacing existing TH1: Lead truthjet_pt JVF (Potential memory leak).\n"
     ]
    }
   ],
   "source": [
    "TH1F *hi_leadreco_jvf = new TH1F(\"Lead truthjet_pt JVF\", \"Leading truthjet JVF; JVF; Events\", 50,1,50 );\n",
    "TH1F *hi_leadreco_jvf2 = new TH1F(\"Lead truthjet_pt JVF\", \"Leading truthjet JVF; JVF; Events\", 50,1,50 );"
   ]
  },
  {
   "cell_type": "code",
   "execution_count": 61,
   "metadata": {},
   "outputs": [
    {
     "name": "stdout",
     "output_type": "stream",
     "text": [
      "done\n"
     ]
    }
   ],
   "source": [
    "int nentries, nbytes;\n",
    "nentries = (Int_t)tree->GetEntries();\n",
    "/*\n",
    "for (int i=0; i <nentries; i++){\n",
    "    \n",
    "    nbytes = tree->GetEntry(i);\n",
    "    \n",
    "    if(reco_R4_pt->size()>0){\n",
    "        hi_leadreco_jvf->Fill(reco_R4_pt->at(0)/1000., evtw);\n",
    "        if(reco_R4_jvf->at(0)>0.5 && reco_R4_jvf->at(0)<0.5){\n",
    "            \n",
    "            hi_leadreco_jvf2->Fill(reco_R4_jvf->at(0), evtw);\n",
    "        }\n",
    "     \n",
    "        \n",
    "    }\n",
    "    \n",
    "}*/\n",
    "\n",
    "for (int i=0; i <nentries; i++){\n",
    "    \n",
    "    nbytes = tree->GetEntry(i);\n",
    "    \n",
    "    if(reco_R4_jvf->size()>0.5 && reco_R4_jvf->size()<0.5){\n",
    "        hi_leadreco_jvf->Fill(reco_R4_pt->at(0)/1000., evtw);\n",
    "        if(reco_R4_jvf->at(0)>0.5 && reco_R4_jvf->at(0)<0.5){\n",
    "            \n",
    "            hi_leadreco_jvf2->Fill(reco_R4_jvf->at(0), evtw);\n",
    "        }\n",
    "     \n",
    "        \n",
    "    }\n",
    "    \n",
    "}\n",
    "\n",
    "\n",
    "std::cout<<\"done\"<<std::endl;"
   ]
  },
  {
   "cell_type": "code",
   "execution_count": 62,
   "metadata": {},
   "outputs": [
    {
     "name": "stderr",
     "output_type": "stream",
     "text": [
      "Warning in <TCanvas::Constructor>: Deleting canvas with same name: Canvas16\n"
     ]
    }
   ],
   "source": [
    "TCanvas *canvas16 = new TCanvas(\"Canvas16\", \"\", 800,600);"
   ]
  },
  {
   "cell_type": "code",
   "execution_count": 63,
   "metadata": {},
   "outputs": [
    {
     "data": {
      "image/png": "[encoded data removed]",
      "text/plain": [
       "<IPython.core.display.Image object>"
      ]
     },
     "metadata": {},
     "output_type": "display_data"
    },
    {
     "name": "stderr",
     "output_type": "stream",
     "text": [
      "Error in <TH1F::DrawNormalized>: Sum of weights is null. Cannot normalize histogram: Lead truthjet_pt JVF\n"
     ]
    }
   ],
   "source": [
    "hi_leadreco_jvf->SetMarkerStyle(20);\n",
    "hi_leadreco_jvf->SetMarkerColor(kBlue);\n",
    "hi_leadreco_jvf->DrawNormalized(\"\");\n",
    "hi_leadreco_jvf2->SetMarkerStyle(20);\n",
    "hi_leadreco_jvf2->SetMarkerColor(67);\n",
    "hi_leadreco_jvf2->DrawNormalized(\"same\");\n",
    "canvas16->Draw();"
   ]
  },
  {
   "cell_type": "markdown",
   "metadata": {},
   "source": [
    "<b>\n",
    "    5. Repeat the same plots and comparisons with \"Track-jets\" and verify that they are stable against pileup"
   ]
  },
  {
   "cell_type": "code",
   "execution_count": 75,
   "metadata": {},
   "outputs": [
    {
     "name": "stderr",
     "output_type": "stream",
     "text": [
      "Warning in <TFile::Append>: Replacing existing TH1: Truth_jet pT JVF NPV (Potential memory leak).\n",
      "Warning in <TFile::Append>: Replacing existing TH1: Profile trujet pT JVF (Potential memory leak).\n"
     ]
    }
   ],
   "source": [
    "TH2F *hi_trujet_npv1 = new TH2F(\"Truth_jet pT JVF NPV\", \";NPV; truth jet pt\", 50,1,50,20,0,200);\n",
    "TProfile *pro_trujet_npv1= new TProfile(\"Profile trujet pT JVF\", \";NPV;truth jet pT\", 50,1,50,0,200);"
   ]
  },
  {
   "cell_type": "code",
   "execution_count": 76,
   "metadata": {},
   "outputs": [
    {
     "name": "stdout",
     "output_type": "stream",
     "text": [
      "done\n"
     ]
    }
   ],
   "source": [
    "int nentries, nbytes;\n",
    "nentries = (Int_t)tree->GetEntries();\n",
    "\n",
    "for (int i=0; i <nentries; i++){\n",
    "    \n",
    "    nbytes = tree->GetEntry(i);\n",
    "    \n",
    "    if(reco_R4_pt->size()>0){\n",
    "        if(reco_R4_jvf->at(0)>0.5 && reco_R4_jvf->at(0)<0.5){\n",
    "            \n",
    "            hi_trujet_npv1->Fill(reco_R4_jvf->at(0), npv,evtw);\n",
    "            pro_trujet_npv1->Fill(reco_R4_jvf->at(0), npv,evtw);\n",
    "        }\n",
    "     \n",
    "        \n",
    "    }\n",
    "    \n",
    "}\n",
    "std::cout<<\"done\"<<std::endl;"
   ]
  },
  {
   "cell_type": "code",
   "execution_count": 77,
   "metadata": {},
   "outputs": [
    {
     "name": "stderr",
     "output_type": "stream",
     "text": [
      "Warning in <TCanvas::Constructor>: Deleting canvas with same name: canvas17\n"
     ]
    }
   ],
   "source": [
    "TCanvas *canvas17 = new TCanvas(\"canvas17\",\"\",800,600);"
   ]
  },
  {
   "cell_type": "code",
   "execution_count": 78,
   "metadata": {},
   "outputs": [
    {
     "data": {
      "image/png": "[encoded data removed]",
      "text/plain": [
       "<IPython.core.display.Image object>"
      ]
     },
     "metadata": {},
     "output_type": "display_data"
    }
   ],
   "source": [
    "hi_trujet_npv1->Draw(\"colz\");\n",
    "canvas2->Draw();"
   ]
  },
  {
   "cell_type": "code",
   "execution_count": 79,
   "metadata": {},
   "outputs": [
    {
     "data": {
      "image/png": "[encoded data removed]",
      "text/plain": [
       "<IPython.core.display.Image object>"
      ]
     },
     "metadata": {},
     "output_type": "display_data"
    }
   ],
   "source": [
    "pro_trujet_npv1->Draw(\"\");\n",
    "canvas2->Draw();"
   ]
  },
  {
   "cell_type": "markdown",
   "metadata": {},
   "source": [
    "<b>\n",
    "    6. Repeat for track-jets and make a plot comparing three cases: reco-jets with and without the JVF cut, and track-jets "
   ]
  },
  {
   "cell_type": "code",
   "execution_count": null,
   "metadata": {},
   "outputs": [],
   "source": []
  },
  {
   "cell_type": "markdown",
   "metadata": {},
   "source": [
    "<b>\n",
    "    7. Plot the response: For matched jets (use DeltaR<0.3), plot pTjet/pTtruth for 3 cases: truth_pT>20 GeV, 100 GeV, 500 GeV. Do this for track jets and reco jets (two plots)."
   ]
  },
  {
   "cell_type": "code",
   "execution_count": null,
   "metadata": {},
   "outputs": [],
   "source": []
  },
  {
   "cell_type": "markdown",
   "metadata": {},
   "source": [
    "<b>\n",
    "    8. Investigate the Large-R jets: \n",
    "    \n",
    "    (a) Plot the leading jet pT for reco_R10 and reco_R10_Trimmed jets \n",
    "    \n",
    "    (b) Plot the leading jet pT for truth_R10 and truth_R10_Trimmed jets\n",
    "    \n",
    "    (c) Compare all plots. How can you explain the differences? \n",
    "    \n",
    "    (d) Make the same comparisson for the jet mass.  \n"
   ]
  },
  {
   "cell_type": "code",
   "execution_count": 105,
   "metadata": {},
   "outputs": [
    {
     "name": "stderr",
     "output_type": "stream",
     "text": [
      "Warning in <TCanvas::Constructor>: Deleting canvas with same name: Canvas20\n"
     ]
    }
   ],
   "source": [
    "TCanvas *canvas20 = new TCanvas(\"Canvas20\",\"\", 800,600);"
   ]
  },
  {
   "cell_type": "code",
   "execution_count": 106,
   "metadata": {},
   "outputs": [],
   "source": [
    "vector<float> *reco_r10_pt;\n",
    "vector<float> *reco_r10_tri;\n",
    "vector<float> *tru_r10_pt;\n",
    "vector<float> *tru_r10_tri;\n",
    "\n",
    "vector<float> *reco_r10_m;\n",
    "vector<float> *tru_r10_m;\n"
   ]
  },
  {
   "cell_type": "code",
   "execution_count": 107,
   "metadata": {},
   "outputs": [],
   "source": [
    "tree->SetBranchAddress(\"RecoJets_R10_pt\", &reco_r10_pt);\n",
    "tree->SetBranchAddress(\"RecoJets_R10_Trimmed_pt\", &reco_r10_tri);\n",
    "tree->SetBranchAddress(\"TruthJets_R10_pt\", &tru_r10_pt);\n",
    "tree->SetBranchAddress(\"TruthJets_R10_Trimmed_pt\", &tru_r10_tri);\n",
    "tree->SetBranchAddress(\"RecoJets_R10_m\", &reco_r10_m);\n",
    "tree->SetBranchAddress(\"TruthJets_R10_m\", &tru_r10_m);\n"
   ]
  },
  {
   "cell_type": "code",
   "execution_count": 108,
   "metadata": {},
   "outputs": [
    {
     "name": "stderr",
     "output_type": "stream",
     "text": [
      "Warning in <TFile::Append>: Replacing existing TH1: Lead reco R10 (Potential memory leak).\n",
      "Warning in <TFile::Append>: Replacing existing TH1: Lead reco R10 trimmed (Potential memory leak).\n",
      "Warning in <TFile::Append>: Replacing existing TH1: Lead truth R10 (Potential memory leak).\n",
      "Warning in <TFile::Append>: Replacing existing TH1: Lead tru R10 tri (Potential memory leak).\n",
      "Warning in <TFile::Append>: Replacing existing TH1: Lead reco R10 m (Potential memory leak).\n",
      "Warning in <TFile::Append>: Replacing existing TH1: Lead tru R10 m (Potential memory leak).\n"
     ]
    }
   ],
   "source": [
    "TH1F *his_reco10pt = new TH1F(\"Lead reco R10\",\"Lead reco R10; pT (GeV); Events\", 50, 120,400 );\n",
    "TH1F *his_reco10pt_tri = new TH1F(\"Lead reco R10 trimmed\",\"Lead reco R10 trimmed; pT (GeV); Events\", 50, 10,300 );\n",
    "TH1F *his_tru10pt = new TH1F(\"Lead truth R10\",\"Lead truth R10; pT (GeV); Events\", 50, 100,400 );\n",
    "TH1F *his_tru10pt_tri = new TH1F(\"Lead tru R10 tri\",\"Lead tru R10 tri; pT (GeV); Events\", 50, 10,200 );\n",
    "TH1F *his_reco10_m = new TH1F(\"Lead reco R10 m\",\"Lead reco R10 m; pT (GeV); Events\", 50, 10,400 );\n",
    "TH1F *his_tru10_m = new TH1F(\"Lead tru R10 m\",\"Lead tru R10 m; pT (GeV); Events\", 50, 10,300 );"
   ]
  },
  {
   "cell_type": "code",
   "execution_count": 109,
   "metadata": {},
   "outputs": [
    {
     "name": "stdout",
     "output_type": "stream",
     "text": [
      "done\n"
     ]
    }
   ],
   "source": [
    "int nentries, nbytes, i;\n",
    "nentries = (Int_t)tree->GetEntries();\n",
    "for (int i = 0; i<nentries; i++){\n",
    "    \n",
    "    nbytes = tree->GetEntry(i);\n",
    "    if (reco_r10_pt->size()>0){\n",
    "        his_reco10pt->Fill(reco_r10_pt->at(0)/1000.);\n",
    "        \n",
    "    }\n",
    "    \n",
    "    if (reco_r10_tri->size()){\n",
    "        his_reco10pt_tri->Fill(reco_r10_tri->at(0)/1000.);\n",
    "    }\n",
    "    \n",
    "    if (tru_r10_pt->size()>0){\n",
    "        his_tru10pt->Fill(tru_r10_pt->at(0)/1000.);\n",
    "    }\n",
    "    \n",
    "    if (tru_r10_tri->size()>0){\n",
    "        his_tru10pt_tri->Fill(tru_r10_tri->at(0)/1000.);    \n",
    "    }\n",
    "    \n",
    "    if (reco_r10_m->size()){\n",
    "        his_reco10_m->Fill(reco_r10_m->at(0)/1000.);\n",
    "    }\n",
    "    \n",
    "    if (tru_r10_m->size()){\n",
    "        his_tru10_m->Fill(tru_r10_m->at(0)/1000.);\n",
    "        \n",
    "    }\n",
    "    \n",
    "    \n",
    "}\n",
    "\n",
    "std::cout<<\"done\"<<std::endl;"
   ]
  },
  {
   "cell_type": "code",
   "execution_count": 110,
   "metadata": {},
   "outputs": [
    {
     "data": {
      "image/png": "[encoded data removed]",
      "text/plain": [
       "<IPython.core.display.Image object>"
      ]
     },
     "metadata": {},
     "output_type": "display_data"
    }
   ],
   "source": [
    "his_reco10pt->SetMarkerStyle(20);\n",
    "his_reco10pt->SetMarkerColor(12);\n",
    "his_reco10pt->Draw(\"\");\n",
    "canvas20->SetLogy();\n",
    "canvas20->Draw();"
   ]
  },
  {
   "cell_type": "code",
   "execution_count": 111,
   "metadata": {},
   "outputs": [
    {
     "name": "stderr",
     "output_type": "stream",
     "text": [
      "Warning in <TCanvas::Constructor>: Deleting canvas with same name: Canvas21\n"
     ]
    }
   ],
   "source": [
    "TCanvas *canvas21 = new TCanvas(\"Canvas21\",\"\", 800,600);"
   ]
  },
  {
   "cell_type": "code",
   "execution_count": 112,
   "metadata": {},
   "outputs": [
    {
     "data": {
      "image/png": "[encoded data removed]",
      "text/plain": [
       "<IPython.core.display.Image object>"
      ]
     },
     "metadata": {},
     "output_type": "display_data"
    }
   ],
   "source": [
    "his_reco10pt_tri->SetMarkerStyle(20);\n",
    "his_reco10pt_tri->SetMarkerColor(22);\n",
    "his_reco10pt_tri->Draw(\"\");\n",
    "canvas21->SetLogy();\n",
    "canvas21->Draw();"
   ]
  },
  {
   "cell_type": "code",
   "execution_count": 113,
   "metadata": {},
   "outputs": [
    {
     "name": "stderr",
     "output_type": "stream",
     "text": [
      "Warning in <TCanvas::Constructor>: Deleting canvas with same name: Canvas22\n"
     ]
    }
   ],
   "source": [
    "TCanvas *canvas22 = new TCanvas(\"Canvas22\",\"\", 800,600);"
   ]
  },
  {
   "cell_type": "code",
   "execution_count": 114,
   "metadata": {},
   "outputs": [
    {
     "data": {
      "image/png": "[encoded data removed]",
      "text/plain": [
       "<IPython.core.display.Image object>"
      ]
     },
     "metadata": {},
     "output_type": "display_data"
    }
   ],
   "source": [
    "his_tru10pt->SetMarkerStyle(20);\n",
    "his_tru10pt->SetMarkerColor(22);\n",
    "his_tru10pt->Draw(\"\");\n",
    "canvas22->SetLogy();\n",
    "canvas22->Draw();"
   ]
  },
  {
   "cell_type": "code",
   "execution_count": 115,
   "metadata": {},
   "outputs": [
    {
     "name": "stderr",
     "output_type": "stream",
     "text": [
      "Warning in <TCanvas::Constructor>: Deleting canvas with same name: Canvas23\n"
     ]
    }
   ],
   "source": [
    "TCanvas *canvas23 = new TCanvas(\"Canvas23\",\"\", 800,600);"
   ]
  },
  {
   "cell_type": "code",
   "execution_count": 116,
   "metadata": {},
   "outputs": [
    {
     "data": {
      "image/png": "[encoded data removed]",
      "text/plain": [
       "<IPython.core.display.Image object>"
      ]
     },
     "metadata": {},
     "output_type": "display_data"
    }
   ],
   "source": [
    "his_tru10pt_tri->SetMarkerStyle(20);\n",
    "his_tru10pt_tri->SetMarkerColor(22);\n",
    "his_tru10pt_tri->Draw(\"\");\n",
    "canvas23->SetLogy();\n",
    "canvas23->Draw();"
   ]
  },
  {
   "cell_type": "code",
   "execution_count": 117,
   "metadata": {},
   "outputs": [
    {
     "name": "stderr",
     "output_type": "stream",
     "text": [
      "Warning in <TCanvas::Constructor>: Deleting canvas with same name: Canvas24\n"
     ]
    }
   ],
   "source": [
    "TCanvas *canvas24 = new TCanvas(\"Canvas24\",\"\", 800,600);"
   ]
  },
  {
   "cell_type": "code",
   "execution_count": 118,
   "metadata": {},
   "outputs": [
    {
     "data": {
      "image/png": "[encoded data removed]",
      "text/plain": [
       "<IPython.core.display.Image object>"
      ]
     },
     "metadata": {},
     "output_type": "display_data"
    }
   ],
   "source": [
    "his_tru10_m->SetMarkerStyle(20);\n",
    "his_tru10_m->SetMarkerColor(22);\n",
    "his_tru10_m->Draw(\"\");\n",
    "canvas24->SetLogy();\n",
    "canvas24->Draw();"
   ]
  },
  {
   "cell_type": "code",
   "execution_count": 119,
   "metadata": {},
   "outputs": [
    {
     "name": "stderr",
     "output_type": "stream",
     "text": [
      "Warning in <TCanvas::Constructor>: Deleting canvas with same name: Canvas25\n"
     ]
    }
   ],
   "source": [
    "TCanvas *canvas25 = new TCanvas(\"Canvas25\",\"\", 800,600);"
   ]
  },
  {
   "cell_type": "code",
   "execution_count": 120,
   "metadata": {},
   "outputs": [
    {
     "data": {
      "image/png": "[encoded data removed]",
      "text/plain": [
       "<IPython.core.display.Image object>"
      ]
     },
     "metadata": {},
     "output_type": "display_data"
    }
   ],
   "source": [
    "his_reco10_m->SetMarkerStyle(20);\n",
    "his_reco10_m->SetMarkerColor(22);\n",
    "his_reco10_m->Draw(\"\");\n",
    "canvas25->SetLogy();\n",
    "canvas25->Draw();"
   ]
  },
  {
   "cell_type": "code",
   "execution_count": null,
   "metadata": {},
   "outputs": [],
   "source": []
  }
 ],
 "metadata": {
  "colab": {
   "name": "Jets_cpp.ipynb",
   "provenance": []
  },
  "kernelspec": {
   "display_name": "ROOT C++",
   "language": "c++",
   "name": "root"
  },
  "language_info": {
   "codemirror_mode": "text/x-c++src",
   "file_extension": ".C",
   "mimetype": " text/x-c++src",
   "name": "c++"
  }
 },
 "nbformat": 4,
 "nbformat_minor": 1
}
